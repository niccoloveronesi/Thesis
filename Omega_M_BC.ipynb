{
  "nbformat": 4,
  "nbformat_minor": 0,
  "metadata": {
    "colab": {
      "name": "Untitled1.ipynb",
      "version": "0.3.2",
      "provenance": [],
      "include_colab_link": true
    },
    "kernelspec": {
      "name": "python2",
      "display_name": "Python 2"
    }
  },
  "cells": [
    {
      "cell_type": "markdown",
      "metadata": {
        "id": "view-in-github",
        "colab_type": "text"
      },
      "source": [
        "<a href=\"https://colab.research.google.com/github/niccoloveronesi/Thesis/blob/master/Omega_M_BC.ipynb\" target=\"_parent\"><img src=\"https://colab.research.google.com/assets/colab-badge.svg\" alt=\"Open In Colab\"/></a>"
      ]
    },
    {
      "metadata": {
        "id": "8fzGsXUb3cJo",
        "colab_type": "text"
      },
      "cell_type": "markdown",
      "source": [
        "# **$\\Omega_{M}$ BINARY CLASSIFICATION**"
      ]
    },
    {
      "metadata": {
        "id": "bWX8yizG3h1B",
        "colab_type": "text"
      },
      "cell_type": "markdown",
      "source": [
        "The goal of this program is to create a ML algorithm which should be able to determine the value of $\\Omega_{M}$ by choosing between two given values. For this purpose mock catalogues are going to be created using the class LogNormal from CosmoBolognaLib, starting from BOSS catalogues."
      ]
    },
    {
      "metadata": {
        "id": "3nXAOYra3mGM",
        "colab_type": "text"
      },
      "cell_type": "markdown",
      "source": [
        "##**Install CosmoBolognaLib**"
      ]
    },
    {
      "metadata": {
        "id": "Hig4C_o-2y9t",
        "colab_type": "code",
        "colab": {}
      },
      "cell_type": "code",
      "source": [
        "!apt-get install libgfortran3\n",
        "!apt-get install libgsl23 libgslcblas0\n",
        "!apt-get install libfftw3-dev\n",
        "!apt-get install libcfitsio5 libcfitsio-dev\n",
        "!apt-get install libccfits-dev\n",
        "!cp /usr/lib/x86_64-linux-gnu/libgsl.so.23 /usr/lib/x86_64-linux-gnu/libgsl.so.19\n",
        "!pip install wget\n",
        "!pip install CosmoBolognaLib"
      ],
      "execution_count": 0,
      "outputs": []
    },
    {
      "metadata": {
        "id": "hCuDkYcq3386",
        "colab_type": "text"
      },
      "cell_type": "markdown",
      "source": [
        "##**Import required modules**"
      ]
    },
    {
      "metadata": {
        "id": "7-9_KmZE3OMf",
        "colab_type": "code",
        "colab": {}
      },
      "cell_type": "code",
      "source": [
        "import CosmoBolognaLib as cbl\n",
        "import matplotlib.pyplot as plt\n",
        "import numpy as np"
      ],
      "execution_count": 0,
      "outputs": []
    }
  ]
}